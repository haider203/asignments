{
 "cells": [
  {
   "cell_type": "markdown",
   "metadata": {},
   "source": [
    "#class 2"
   ]
  },
  {
   "cell_type": "code",
   "execution_count": 1,
   "metadata": {},
   "outputs": [
    {
     "name": "stdout",
     "output_type": "stream",
     "text": [
      "piaic student card\n",
      "Student Name:haider ali tariq\n"
     ]
    }
   ],
   "source": [
    "name : str = \"haider ali tariq\"\n",
    "fname : str = \"Muhammad Tariq\"\n",
    "\n",
    "card : str = \"piaic student card\\nStudent Name:\" + name +\"\"\n",
    "print(card)"
   ]
  },
  {
   "cell_type": "markdown",
   "metadata": {},
   "source": []
  },
  {
   "cell_type": "code",
   "execution_count": 2,
   "metadata": {},
   "outputs": [
    {
     "name": "stdout",
     "output_type": "stream",
     "text": [
      "Requirement already satisfied: pandas in c:\\python311\\lib\\site-packages (2.1.1)\n",
      "Requirement already satisfied: numpy>=1.23.2 in c:\\python311\\lib\\site-packages (from pandas) (1.26.1)\n",
      "Requirement already satisfied: python-dateutil>=2.8.2 in c:\\users\\computer\\appdata\\roaming\\python\\python311\\site-packages (from pandas) (2.8.2)\n",
      "Requirement already satisfied: pytz>=2020.1 in c:\\python311\\lib\\site-packages (from pandas) (2023.3.post1)\n",
      "Requirement already satisfied: tzdata>=2022.1 in c:\\python311\\lib\\site-packages (from pandas) (2023.3)\n",
      "Requirement already satisfied: six>=1.5 in c:\\users\\computer\\appdata\\roaming\\python\\python311\\site-packages (from python-dateutil>=2.8.2->pandas) (1.16.0)\n"
     ]
    },
    {
     "ename": "ImportError",
     "evalue": "Missing optional dependency 'lxml'.  Use pip or conda to install lxml.",
     "output_type": "error",
     "traceback": [
      "\u001b[1;31m---------------------------------------------------------------------------\u001b[0m",
      "\u001b[1;31mModuleNotFoundError\u001b[0m                       Traceback (most recent call last)",
      "File \u001b[1;32me:\\python\\envs\\python12\\Lib\\site-packages\\pandas\\compat\\_optional.py:132\u001b[0m, in \u001b[0;36mimport_optional_dependency\u001b[1;34m(name, extra, errors, min_version)\u001b[0m\n\u001b[0;32m    131\u001b[0m \u001b[39mtry\u001b[39;00m:\n\u001b[1;32m--> 132\u001b[0m     module \u001b[39m=\u001b[39m importlib\u001b[39m.\u001b[39;49mimport_module(name)\n\u001b[0;32m    133\u001b[0m \u001b[39mexcept\u001b[39;00m \u001b[39mImportError\u001b[39;00m:\n",
      "File \u001b[1;32me:\\python\\envs\\python12\\Lib\\importlib\\__init__.py:90\u001b[0m, in \u001b[0;36mimport_module\u001b[1;34m(name, package)\u001b[0m\n\u001b[0;32m     89\u001b[0m         level \u001b[39m+\u001b[39m\u001b[39m=\u001b[39m \u001b[39m1\u001b[39m\n\u001b[1;32m---> 90\u001b[0m \u001b[39mreturn\u001b[39;00m _bootstrap\u001b[39m.\u001b[39;49m_gcd_import(name[level:], package, level)\n",
      "File \u001b[1;32m<frozen importlib._bootstrap>:1381\u001b[0m, in \u001b[0;36m_gcd_import\u001b[1;34m(name, package, level)\u001b[0m\n",
      "File \u001b[1;32m<frozen importlib._bootstrap>:1354\u001b[0m, in \u001b[0;36m_find_and_load\u001b[1;34m(name, import_)\u001b[0m\n",
      "File \u001b[1;32m<frozen importlib._bootstrap>:1304\u001b[0m, in \u001b[0;36m_find_and_load_unlocked\u001b[1;34m(name, import_)\u001b[0m\n",
      "File \u001b[1;32m<frozen importlib._bootstrap>:488\u001b[0m, in \u001b[0;36m_call_with_frames_removed\u001b[1;34m(f, *args, **kwds)\u001b[0m\n",
      "File \u001b[1;32m<frozen importlib._bootstrap>:1381\u001b[0m, in \u001b[0;36m_gcd_import\u001b[1;34m(name, package, level)\u001b[0m\n",
      "File \u001b[1;32m<frozen importlib._bootstrap>:1354\u001b[0m, in \u001b[0;36m_find_and_load\u001b[1;34m(name, import_)\u001b[0m\n",
      "File \u001b[1;32m<frozen importlib._bootstrap>:1318\u001b[0m, in \u001b[0;36m_find_and_load_unlocked\u001b[1;34m(name, import_)\u001b[0m\n",
      "\u001b[1;31mModuleNotFoundError\u001b[0m: No module named 'lxml'",
      "\nDuring handling of the above exception, another exception occurred:\n",
      "\u001b[1;31mImportError\u001b[0m                               Traceback (most recent call last)",
      "\u001b[1;32mc:\\Users\\Computer\\Desktop\\learn modren python\\python5\\class1.ipynb Cell 4\u001b[0m line \u001b[0;36m3\n\u001b[0;32m      <a href='vscode-notebook-cell:/c%3A/Users/Computer/Desktop/learn%20modren%20python/python5/class1.ipynb#W3sZmlsZQ%3D%3D?line=0'>1</a>\u001b[0m get_ipython()\u001b[39m.\u001b[39msystem(\u001b[39m'\u001b[39m\u001b[39mpip install pandas\u001b[39m\u001b[39m'\u001b[39m)\n\u001b[0;32m      <a href='vscode-notebook-cell:/c%3A/Users/Computer/Desktop/learn%20modren%20python/python5/class1.ipynb#W3sZmlsZQ%3D%3D?line=1'>2</a>\u001b[0m \u001b[39mimport\u001b[39;00m \u001b[39mpandas\u001b[39;00m \u001b[39mas\u001b[39;00m \u001b[39mpd\u001b[39;00m \n\u001b[1;32m----> <a href='vscode-notebook-cell:/c%3A/Users/Computer/Desktop/learn%20modren%20python/python5/class1.ipynb#W3sZmlsZQ%3D%3D?line=2'>3</a>\u001b[0m table \u001b[39m=\u001b[39mpd\u001b[39m.\u001b[39;49mread_html(\u001b[39m'\u001b[39;49m\u001b[39mhttps://www.w3schools.com/python/python_operators.asp\u001b[39;49m\u001b[39m'\u001b[39;49m)\n\u001b[0;32m      <a href='vscode-notebook-cell:/c%3A/Users/Computer/Desktop/learn%20modren%20python/python5/class1.ipynb#W3sZmlsZQ%3D%3D?line=3'>4</a>\u001b[0m table[\u001b[39m0\u001b[39m]\n",
      "File \u001b[1;32me:\\python\\envs\\python12\\Lib\\site-packages\\pandas\\io\\html.py:1245\u001b[0m, in \u001b[0;36mread_html\u001b[1;34m(io, match, flavor, header, index_col, skiprows, attrs, parse_dates, thousands, encoding, decimal, converters, na_values, keep_default_na, displayed_only, extract_links, dtype_backend, storage_options)\u001b[0m\n\u001b[0;32m   1229\u001b[0m \u001b[39mif\u001b[39;00m \u001b[39misinstance\u001b[39m(io, \u001b[39mstr\u001b[39m) \u001b[39mand\u001b[39;00m \u001b[39mnot\u001b[39;00m \u001b[39many\u001b[39m(\n\u001b[0;32m   1230\u001b[0m     [\n\u001b[0;32m   1231\u001b[0m         is_file_like(io),\n\u001b[1;32m   (...)\u001b[0m\n\u001b[0;32m   1235\u001b[0m     ]\n\u001b[0;32m   1236\u001b[0m ):\n\u001b[0;32m   1237\u001b[0m     warnings\u001b[39m.\u001b[39mwarn(\n\u001b[0;32m   1238\u001b[0m         \u001b[39m\"\u001b[39m\u001b[39mPassing literal html to \u001b[39m\u001b[39m'\u001b[39m\u001b[39mread_html\u001b[39m\u001b[39m'\u001b[39m\u001b[39m is deprecated and \u001b[39m\u001b[39m\"\u001b[39m\n\u001b[0;32m   1239\u001b[0m         \u001b[39m\"\u001b[39m\u001b[39mwill be removed in a future version. To read from a \u001b[39m\u001b[39m\"\u001b[39m\n\u001b[1;32m   (...)\u001b[0m\n\u001b[0;32m   1242\u001b[0m         stacklevel\u001b[39m=\u001b[39mfind_stack_level(),\n\u001b[0;32m   1243\u001b[0m     )\n\u001b[1;32m-> 1245\u001b[0m \u001b[39mreturn\u001b[39;00m _parse(\n\u001b[0;32m   1246\u001b[0m     flavor\u001b[39m=\u001b[39;49mflavor,\n\u001b[0;32m   1247\u001b[0m     io\u001b[39m=\u001b[39;49mio,\n\u001b[0;32m   1248\u001b[0m     match\u001b[39m=\u001b[39;49mmatch,\n\u001b[0;32m   1249\u001b[0m     header\u001b[39m=\u001b[39;49mheader,\n\u001b[0;32m   1250\u001b[0m     index_col\u001b[39m=\u001b[39;49mindex_col,\n\u001b[0;32m   1251\u001b[0m     skiprows\u001b[39m=\u001b[39;49mskiprows,\n\u001b[0;32m   1252\u001b[0m     parse_dates\u001b[39m=\u001b[39;49mparse_dates,\n\u001b[0;32m   1253\u001b[0m     thousands\u001b[39m=\u001b[39;49mthousands,\n\u001b[0;32m   1254\u001b[0m     attrs\u001b[39m=\u001b[39;49mattrs,\n\u001b[0;32m   1255\u001b[0m     encoding\u001b[39m=\u001b[39;49mencoding,\n\u001b[0;32m   1256\u001b[0m     decimal\u001b[39m=\u001b[39;49mdecimal,\n\u001b[0;32m   1257\u001b[0m     converters\u001b[39m=\u001b[39;49mconverters,\n\u001b[0;32m   1258\u001b[0m     na_values\u001b[39m=\u001b[39;49mna_values,\n\u001b[0;32m   1259\u001b[0m     keep_default_na\u001b[39m=\u001b[39;49mkeep_default_na,\n\u001b[0;32m   1260\u001b[0m     displayed_only\u001b[39m=\u001b[39;49mdisplayed_only,\n\u001b[0;32m   1261\u001b[0m     extract_links\u001b[39m=\u001b[39;49mextract_links,\n\u001b[0;32m   1262\u001b[0m     dtype_backend\u001b[39m=\u001b[39;49mdtype_backend,\n\u001b[0;32m   1263\u001b[0m     storage_options\u001b[39m=\u001b[39;49mstorage_options,\n\u001b[0;32m   1264\u001b[0m )\n",
      "File \u001b[1;32me:\\python\\envs\\python12\\Lib\\site-packages\\pandas\\io\\html.py:976\u001b[0m, in \u001b[0;36m_parse\u001b[1;34m(flavor, io, match, attrs, encoding, displayed_only, extract_links, storage_options, **kwargs)\u001b[0m\n\u001b[0;32m    974\u001b[0m retained \u001b[39m=\u001b[39m \u001b[39mNone\u001b[39;00m\n\u001b[0;32m    975\u001b[0m \u001b[39mfor\u001b[39;00m flav \u001b[39min\u001b[39;00m flavor:\n\u001b[1;32m--> 976\u001b[0m     parser \u001b[39m=\u001b[39m _parser_dispatch(flav)\n\u001b[0;32m    977\u001b[0m     p \u001b[39m=\u001b[39m parser(\n\u001b[0;32m    978\u001b[0m         io,\n\u001b[0;32m    979\u001b[0m         compiled_match,\n\u001b[1;32m   (...)\u001b[0m\n\u001b[0;32m    984\u001b[0m         storage_options,\n\u001b[0;32m    985\u001b[0m     )\n\u001b[0;32m    987\u001b[0m     \u001b[39mtry\u001b[39;00m:\n",
      "File \u001b[1;32me:\\python\\envs\\python12\\Lib\\site-packages\\pandas\\io\\html.py:923\u001b[0m, in \u001b[0;36m_parser_dispatch\u001b[1;34m(flavor)\u001b[0m\n\u001b[0;32m    921\u001b[0m     import_optional_dependency(\u001b[39m\"\u001b[39m\u001b[39mbs4\u001b[39m\u001b[39m\"\u001b[39m)\n\u001b[0;32m    922\u001b[0m \u001b[39melse\u001b[39;00m:\n\u001b[1;32m--> 923\u001b[0m     import_optional_dependency(\u001b[39m\"\u001b[39;49m\u001b[39mlxml.etree\u001b[39;49m\u001b[39m\"\u001b[39;49m)\n\u001b[0;32m    924\u001b[0m \u001b[39mreturn\u001b[39;00m _valid_parsers[flavor]\n",
      "File \u001b[1;32me:\\python\\envs\\python12\\Lib\\site-packages\\pandas\\compat\\_optional.py:135\u001b[0m, in \u001b[0;36mimport_optional_dependency\u001b[1;34m(name, extra, errors, min_version)\u001b[0m\n\u001b[0;32m    133\u001b[0m \u001b[39mexcept\u001b[39;00m \u001b[39mImportError\u001b[39;00m:\n\u001b[0;32m    134\u001b[0m     \u001b[39mif\u001b[39;00m errors \u001b[39m==\u001b[39m \u001b[39m\"\u001b[39m\u001b[39mraise\u001b[39m\u001b[39m\"\u001b[39m:\n\u001b[1;32m--> 135\u001b[0m         \u001b[39mraise\u001b[39;00m \u001b[39mImportError\u001b[39;00m(msg)\n\u001b[0;32m    136\u001b[0m     \u001b[39mreturn\u001b[39;00m \u001b[39mNone\u001b[39;00m\n\u001b[0;32m    138\u001b[0m \u001b[39m# Handle submodules: if we have submodule, grab parent module from sys.modules\u001b[39;00m\n",
      "\u001b[1;31mImportError\u001b[0m: Missing optional dependency 'lxml'.  Use pip or conda to install lxml."
     ]
    }
   ],
   "source": [
    "!pip install pandas\n",
    "import pandas as pd \n",
    "table =pd.read_html('https://www.w3schools.com/python/python_operators.asp')\n",
    "table[0]"
   ]
  },
  {
   "cell_type": "code",
   "execution_count": null,
   "metadata": {},
   "outputs": [
    {
     "name": "stdout",
     "output_type": "stream",
     "text": [
      "14\n",
      "8\n",
      "33\n",
      "3.6666666666666665\n",
      "2\n",
      "3\n",
      "1331\n"
     ]
    }
   ],
   "source": [
    "a : int = 11\n",
    "b : int = 3\n",
    "print(a+b)\n",
    "print(a-b)\n",
    "print(a*b)\n",
    "print(a/b)\n",
    "print(a%b)\n",
    "print(a//b)\n",
    "print(a**b)\n"
   ]
  },
  {
   "cell_type": "code",
   "execution_count": null,
   "metadata": {},
   "outputs": [
    {
     "name": "stdout",
     "output_type": "stream",
     "text": [
      "False\n"
     ]
    }
   ],
   "source": [
    "a:int = 5\n",
    "b:int = 6\n",
    "print(a==b)"
   ]
  },
  {
   "cell_type": "code",
   "execution_count": null,
   "metadata": {},
   "outputs": [],
   "source": [
    "a:int = 5 \n",
    "b:int = 6\n",
    "print(a!=b)"
   ]
  },
  {
   "cell_type": "code",
   "execution_count": null,
   "metadata": {},
   "outputs": [
    {
     "name": "stdout",
     "output_type": "stream",
     "text": [
      "True\n"
     ]
    }
   ],
   "source": [
    "a:int = 7 \n",
    "b:int = 7\n",
    "print(a>=b)"
   ]
  },
  {
   "cell_type": "code",
   "execution_count": null,
   "metadata": {},
   "outputs": [
    {
     "name": "stdout",
     "output_type": "stream",
     "text": [
      "False\n"
     ]
    }
   ],
   "source": [
    "a:str = \"a\" \n",
    "b:str = \"b\"\n",
    "print(a>=b)"
   ]
  },
  {
   "cell_type": "code",
   "execution_count": null,
   "metadata": {},
   "outputs": [
    {
     "name": "stdout",
     "output_type": "stream",
     "text": [
      "True\n"
     ]
    }
   ],
   "source": [
    "a:str = \"a\" \n",
    "b:str = \"b\"\n",
    "print(a<=b)"
   ]
  },
  {
   "cell_type": "code",
   "execution_count": null,
   "metadata": {},
   "outputs": [
    {
     "data": {
      "text/plain": [
       "'A'"
      ]
     },
     "execution_count": 10,
     "metadata": {},
     "output_type": "execute_result"
    }
   ],
   "source": [
    "chr(65)"
   ]
  },
  {
   "cell_type": "code",
   "execution_count": null,
   "metadata": {},
   "outputs": [
    {
     "data": {
      "text/plain": [
       "65"
      ]
     },
     "execution_count": 12,
     "metadata": {},
     "output_type": "execute_result"
    }
   ],
   "source": [
    "ord('A')\n",
    "#aski code"
   ]
  },
  {
   "cell_type": "code",
   "execution_count": null,
   "metadata": {},
   "outputs": [
    {
     "name": "stdout",
     "output_type": "stream",
     "text": [
      "True\n"
     ]
    }
   ],
   "source": [
    "print(True and True and True and True)\n",
    "#logical oprator\n",
    "#and Oprator"
   ]
  },
  {
   "cell_type": "code",
   "execution_count": null,
   "metadata": {},
   "outputs": [
    {
     "name": "stdout",
     "output_type": "stream",
     "text": [
      "True\n"
     ]
    }
   ],
   "source": [
    "print(False or False or False or True)\n",
    "#or oprator"
   ]
  },
  {
   "cell_type": "code",
   "execution_count": null,
   "metadata": {},
   "outputs": [
    {
     "name": "stdout",
     "output_type": "stream",
     "text": [
      "True\n"
     ]
    }
   ],
   "source": [
    "name : str =\"qasim\"\n",
    "print(not name!=\"qasim\")\n",
    "#not oprator\n",
    "# which comparison result come its revort ture into false fasle into ture "
   ]
  },
  {
   "cell_type": "code",
   "execution_count": null,
   "metadata": {},
   "outputs": [
    {
     "name": "stdout",
     "output_type": "stream",
     "text": [
      "140725179781384\n",
      "140725179781384\n"
     ]
    },
    {
     "data": {
      "text/plain": [
       "True"
      ]
     },
     "execution_count": 20,
     "metadata": {},
     "output_type": "execute_result"
    }
   ],
   "source": [
    "#identity Oprator\n",
    "x : str ='abc'\n",
    "z : str = 'abc'\n",
    "print(id(x))\n",
    "print(id(z))\n",
    "\n",
    "x is z \n"
   ]
  },
  {
   "cell_type": "code",
   "execution_count": null,
   "metadata": {},
   "outputs": [
    {
     "name": "stdout",
     "output_type": "stream",
     "text": [
      "140725179781384\n",
      "140725179781384\n"
     ]
    },
    {
     "data": {
      "text/plain": [
       "False"
      ]
     },
     "execution_count": 21,
     "metadata": {},
     "output_type": "execute_result"
    }
   ],
   "source": [
    "#identity Oprator\n",
    "x : str ='abc'\n",
    "z : str = 'abc'\n",
    "print(id(x))\n",
    "print(id(z))\n",
    "x is not z\n",
    "# same object ko check karne k liye is oprator use karty ha"
   ]
  },
  {
   "cell_type": "code",
   "execution_count": null,
   "metadata": {},
   "outputs": [
    {
     "name": "stderr",
     "output_type": "stream",
     "text": [
      "<>:3: SyntaxWarning: \"is\" with 'str' literal. Did you mean \"==\"?\n",
      "<>:3: SyntaxWarning: \"is\" with 'str' literal. Did you mean \"==\"?\n",
      "C:\\Users\\Computer\\AppData\\Local\\Temp\\ipykernel_4892\\1897734319.py:3: SyntaxWarning: \"is\" with 'str' literal. Did you mean \"==\"?\n",
      "  \"D\" is names\n"
     ]
    },
    {
     "data": {
      "text/plain": [
       "False"
      ]
     },
     "execution_count": 32,
     "metadata": {},
     "output_type": "execute_result"
    }
   ],
   "source": [
    "names : list[str]=[chr(i) for i in range(65,91)]\n",
    "\n",
    "\"D\" in names\n",
    "\n",
    "#to find D is avialable in list "
   ]
  },
  {
   "cell_type": "code",
   "execution_count": null,
   "metadata": {},
   "outputs": [
    {
     "data": {
      "text/plain": [
       "True"
      ]
     },
     "execution_count": 34,
     "metadata": {},
     "output_type": "execute_result"
    }
   ],
   "source": [
    "names : list[str]= ['haider','ali','tariq']\n",
    "uinput : str = input(\"enter your name \")\n",
    "uinput in names\n",
    "\n",
    "#to check these name are avilable in list then show ture"
   ]
  },
  {
   "cell_type": "code",
   "execution_count": null,
   "metadata": {},
   "outputs": [
    {
     "data": {
      "text/plain": [
       "True"
      ]
     },
     "execution_count": 36,
     "metadata": {},
     "output_type": "execute_result"
    }
   ],
   "source": [
    "names : list[str]= ['haider','ali','tariq']\n",
    "uinput : str = input(\"enter your name \")\n",
    "uinput not in names\n",
    "\n",
    "#not in mean these are not allowed ,,,else this list all are allowed "
   ]
  },
  {
   "cell_type": "code",
   "execution_count": null,
   "metadata": {},
   "outputs": [],
   "source": [
    "#operator precedence\n",
    "#pemdas"
   ]
  },
  {
   "cell_type": "code",
   "execution_count": null,
   "metadata": {},
   "outputs": [
    {
     "name": "stdout",
     "output_type": "stream",
     "text": [
      "haider\n",
      "haider\n"
     ]
    }
   ],
   "source": [
    "#list\n",
    "names =[\"haider\",\"ali\",\"tariq\"]\n",
    "\n",
    "print(names[-3])\n",
    "print(names[0])"
   ]
  },
  {
   "cell_type": "code",
   "execution_count": null,
   "metadata": {},
   "outputs": [
    {
     "name": "stdout",
     "output_type": "stream",
     "text": [
      "founder of PIAIC TARIQ\n"
     ]
    }
   ],
   "source": [
    "#list\n",
    "#from typing import Any\n",
    "names =[\"haider\",\"ali\",\"tariq\"]\n",
    "print(f'founder of PIAIC {names[-1].upper()}')\n"
   ]
  },
  {
   "cell_type": "code",
   "execution_count": null,
   "metadata": {},
   "outputs": [
    {
     "name": "stdout",
     "output_type": "stream",
     "text": [
      "<class 'list'>\n",
      "<class 'str'>\n",
      "founder of PIAIC TARIQ\n"
     ]
    }
   ],
   "source": [
    "names : list[any] =[\"haider\",\"ali\",\"tariq\"]\n",
    "\n",
    "print(type(names))\n",
    "print(type(names[-2]))\n",
    "print(f'founder of PIAIC {names[-1].upper()}')"
   ]
  },
  {
   "cell_type": "code",
   "execution_count": null,
   "metadata": {},
   "outputs": [
    {
     "name": "stdout",
     "output_type": "stream",
     "text": [
      "['A', 'B', 'C', 'D', 'E', 'F', 'G', 'H', 'I', 'J', 'K', 'L', 'M', 'N', 'O', 'P', 'Q', 'S', 'T', 'U', 'V', 'X', 'Y', 'Z']\n"
     ]
    }
   ],
   "source": [
    "#slicing(start:int=inculde - -end:int=n-1 - step:int=sequance)\n",
    "characters : list[str] = list(\"ABCDEFGHIJKLMNOPQSTUVXYZ\")\n",
    "print(characters)"
   ]
  },
  {
   "cell_type": "code",
   "execution_count": null,
   "metadata": {},
   "outputs": [
    {
     "name": "stdout",
     "output_type": "stream",
     "text": [
      "['A', 'B', 'C']\n",
      "['A', 'B', 'C']\n",
      "['A', 'B', 'C']\n",
      "['A', 'B', 'C']\n",
      "['A', 'B', 'C']\n"
     ]
    }
   ],
   "source": [
    "#slicing(start:int=inculde - -end:int=n-1 - step:int=sequance)\n",
    "# do ya do se zayada items extract karna chah rhy hai is liye splicing use karte\n",
    "characters : list[str] = ['A', 'B', 'C', 'D', 'E', 'F', 'G', 'H', 'I', 'J', 'K', 'L', 'M', 'N', 'O', 'P', 'Q', 'S', 'T', 'U', 'V', 'X', 'Y', 'Z']\n",
    "print(characters[0:3])\n",
    "print(characters[:3])\n",
    "print(characters[-24:-21])\n",
    "print(characters[0:3:1])\n",
    "print(characters[0:3:])\n"
   ]
  },
  {
   "cell_type": "code",
   "execution_count": null,
   "metadata": {},
   "outputs": [
    {
     "name": "stdout",
     "output_type": "stream",
     "text": [
      "['A', 'C', 'E', 'G', 'I', 'K', 'M', 'O', 'Q', 'T', 'V', 'Y']\n"
     ]
    }
   ],
   "source": [
    "characters : list[str] = ['A', 'B', 'C', 'D', 'E', 'F', 'G', 'H', 'I', 'J', 'K', 'L', 'M', 'N', 'O', 'P', 'Q', 'S', 'T', 'U', 'V', 'X', 'Y', 'Z']\n",
    "print(characters[::2])"
   ]
  },
  {
   "cell_type": "code",
   "execution_count": null,
   "metadata": {},
   "outputs": [
    {
     "name": "stdout",
     "output_type": "stream",
     "text": [
      "['B', 'C', 'D', 'E']\n"
     ]
    }
   ],
   "source": [
    "characters : list[str] = ['A', 'B', 'C', 'D', 'E', 'F', 'G', 'H']\n",
    "print(characters[1:-3])"
   ]
  },
  {
   "cell_type": "code",
   "execution_count": null,
   "metadata": {},
   "outputs": [
    {
     "name": "stdout",
     "output_type": "stream",
     "text": [
      "[]\n"
     ]
    }
   ],
   "source": [
    "characters : list[str] = ['A', 'B', 'C', 'D', 'E', 'F', 'G', 'H']\n",
    "print(characters[-1:-5])"
   ]
  },
  {
   "cell_type": "code",
   "execution_count": null,
   "metadata": {},
   "outputs": [
    {
     "name": "stdout",
     "output_type": "stream",
     "text": [
      "['G', 'F', 'E']\n"
     ]
    }
   ],
   "source": [
    "characters : list[str] = ['A', 'B', 'C', 'D', 'E', 'F', 'G', 'H']\n",
    "print(characters[-2:-5:-1])"
   ]
  },
  {
   "cell_type": "code",
   "execution_count": null,
   "metadata": {},
   "outputs": [
    {
     "name": "stdout",
     "output_type": "stream",
     "text": [
      "['haider', 'ali', 'tariq']\n",
      "['muhammad haider', 'tariq']\n"
     ]
    }
   ],
   "source": [
    "names : list[any] =[\"haider\",\"ali\",\"tariq\"]\n",
    "\n",
    "print(names)\n",
    "del names[0]\n",
    "names[0]= \"muhammad haider\"\n",
    "print(names)"
   ]
  },
  {
   "cell_type": "code",
   "execution_count": null,
   "metadata": {},
   "outputs": [
    {
     "data": {
      "text/plain": [
       "['append',\n",
       " 'clear',\n",
       " 'copy',\n",
       " 'count',\n",
       " 'extend',\n",
       " 'index',\n",
       " 'insert',\n",
       " 'pop',\n",
       " 'remove',\n",
       " 'reverse',\n",
       " 'sort']"
      ]
     },
     "execution_count": 7,
     "metadata": {},
     "output_type": "execute_result"
    }
   ],
   "source": [
    "[i for i in dir(list) if \"__\" not in i]\n",
    "#to find function of any thing "
   ]
  },
  {
   "cell_type": "code",
   "execution_count": null,
   "metadata": {},
   "outputs": [
    {
     "name": "stdout",
     "output_type": "stream",
     "text": [
      "['haider', 'ali', 'tariq']\n",
      "haider\n",
      "['ali', 'tariq']\n"
     ]
    }
   ],
   "source": [
    "names : list[any] =[\"haider\",\"ali\",\"tariq\"]\n",
    "print(names)\n",
    "a : str = names.pop(0)\n",
    "print(a)\n",
    "print(names)"
   ]
  },
  {
   "cell_type": "code",
   "execution_count": null,
   "metadata": {},
   "outputs": [
    {
     "name": "stdout",
     "output_type": "stream",
     "text": [
      "['a', 'b', 'c', 'haider', 'ali', 'tariq']\n"
     ]
    }
   ],
   "source": [
    "#append method add element in last \n",
    "names : list[str] = ['a','b','c']\n",
    "names.append(\"haider\")\n",
    "names.append(\"ali\")\n",
    "names.append(\"tariq\")\n",
    "\n",
    "print(names)"
   ]
  },
  {
   "cell_type": "code",
   "execution_count": null,
   "metadata": {},
   "outputs": [
    {
     "name": "stdout",
     "output_type": "stream",
     "text": [
      "['a', 'haider', 'b', 'c', 'd']\n"
     ]
    }
   ],
   "source": [
    "names : list[str] = ['a','b','c','d']\n",
    "names.insert(1, \"haider\")\n",
    "print(names)"
   ]
  },
  {
   "cell_type": "code",
   "execution_count": null,
   "metadata": {},
   "outputs": [
    {
     "name": "stdout",
     "output_type": "stream",
     "text": [
      "haider\n",
      "ali\n",
      "tariq\n"
     ]
    }
   ],
   "source": [
    "#itration in loop\n",
    "names : list[str] = ['haider','ali','tariq']\n",
    "for name in names:\n",
    "    print(name)"
   ]
  },
  {
   "cell_type": "code",
   "execution_count": null,
   "metadata": {},
   "outputs": [
    {
     "name": "stdout",
     "output_type": "stream",
     "text": [
      "Welcome Dear Teacher Tariq\n",
      "Piaic Gen AI Team\n",
      "\n",
      "Welcome Dear Teacher Ali\n",
      "Piaic Gen AI Team\n",
      "\n",
      "Welcome Dear Teacher Haider\n",
      "Piaic Gen AI Team\n",
      "\n",
      "pakistan\n"
     ]
    }
   ],
   "source": [
    "\n",
    "names : list[str] = ['haider','ali','tariq']\n",
    "for name in names[::-1]:\n",
    "    print(f'Welcome Dear Teacher {name.title()}')\n",
    "    print(\"Piaic Gen AI Team\\n\")\n",
    "print(\"pakistan\")#not a part of itdentation "
   ]
  },
  {
   "cell_type": "code",
   "execution_count": null,
   "metadata": {},
   "outputs": [
    {
     "name": "stdout",
     "output_type": "stream",
     "text": [
      "not found invalid user\n",
      "ali 117\n"
     ]
    }
   ],
   "source": [
    "data_base : list[tuple[str,str]] =[(\"haider0\",\"156\"),\n",
    "                                   (\"haider1\",\"256\"),\n",
    "                                   (\"haider\",\"116\"),\n",
    "                                   (\"ali\",\"117\")\n",
    "                                   ]\n",
    "input_user : str = input(\"enter your user name\")\n",
    "input_password : str = input(\"enter your password\")\n",
    "                                   \n",
    "for row in data_base:\n",
    "    user,password =row\n",
    "    if input_user == user and input_password == password:\n",
    "        \n",
    "        print(\"valid User\")\n",
    "        break\n",
    "else:\n",
    "    print(\"not found invalid user\")\n",
    "    \n",
    "    print(user,password)"
   ]
  },
  {
   "cell_type": "code",
   "execution_count": null,
   "metadata": {},
   "outputs": [
    {
     "name": "stdout",
     "output_type": "stream",
     "text": [
      "2 X 1 = 2\n",
      "2 X 2 = 4\n",
      "2 X 3 = 6\n",
      "2 X 4 = 8\n",
      "2 X 5 = 10\n",
      "2 X 6 = 12\n",
      "2 X 7 = 14\n",
      "2 X 8 = 16\n",
      "2 X 9 = 18\n",
      "2 X 10 = 20\n"
     ]
    }
   ],
   "source": [
    "#Numbers with loop\n",
    "#range(start,end,step)\n",
    "for n in range(1,11):\n",
    "    print(f\"{2} X {n} = {n*2}\")"
   ]
  },
  {
   "cell_type": "code",
   "execution_count": null,
   "metadata": {},
   "outputs": [
    {
     "name": "stdout",
     "output_type": "stream",
     "text": [
      "0 haider\n",
      "1 ali\n",
      "2 tariq\n"
     ]
    }
   ],
   "source": [
    "\n",
    "names : list[str] = ['haider','ali','tariq']\n",
    "for index, names in enumerate(names):\n",
    "\n",
    "    print(index,names)"
   ]
  },
  {
   "cell_type": "code",
   "execution_count": null,
   "metadata": {},
   "outputs": [
    {
     "data": {
      "text/plain": [
       "[1, 2, 3, 4, 5, 6, 7, 8, 9, 0]"
      ]
     },
     "execution_count": 81,
     "metadata": {},
     "output_type": "execute_result"
    }
   ],
   "source": [
    "#List Comprihenson -comrihenson style\n",
    "[i%10 for i in range(1,11)]\n"
   ]
  },
  {
   "cell_type": "code",
   "execution_count": 11,
   "metadata": {},
   "outputs": [
    {
     "name": "stdout",
     "output_type": "stream",
     "text": [
      "Dear Student Your Percentage is 1 \n",
      " now your Grade is Fail\t\n"
     ]
    }
   ],
   "source": [
    "from typing import Union\n",
    "per : Union [int,float] = float(input(\"Enter you Number :\\t\"))\n",
    "grade : Union [str,None] = None\n",
    "\n",
    "if per >= 80:\n",
    "    grade = \"A+\"\n",
    "elif per >= 70:\n",
    "    grade = \"A\"\n",
    "elif per >= 60:\n",
    "    grade = \"B\"\n",
    "elif per >= 50:\n",
    "    grade = \"C\"\n",
    "else:\n",
    "    grade = \"Fail\"\n",
    "\n",
    "print(f\"Dear Student Your Percentage is {per} \\nnow your Grade is {grade}\\t\")"
   ]
  },
  {
   "cell_type": "code",
   "execution_count": 24,
   "metadata": {},
   "outputs": [
    {
     "name": "stdout",
     "output_type": "stream",
     "text": [
      "[88, 99.9, 50, 51, 65, 70]\n",
      "['A+', 'A+', 'C', 'C', 'B', 'A']\n"
     ]
    },
    {
     "data": {
      "text/plain": [
       "[(88, 'A+', 0),\n",
       " (99.9, 'A+', 1),\n",
       " (50, 'C', 2),\n",
       " (51, 'C', 3),\n",
       " (65, 'B', 4),\n",
       " (70, 'A', 5)]"
      ]
     },
     "metadata": {},
     "output_type": "display_data"
    },
    {
     "data": {
      "text/plain": [
       "[(50, 'C', 2),\n",
       " (51, 'C', 3),\n",
       " (65, 'B', 4),\n",
       " (88, 'A+', 0),\n",
       " (99.9, 'A+', 1),\n",
       " (70, 'A', 5)]"
      ]
     },
     "execution_count": 24,
     "metadata": {},
     "output_type": "execute_result"
    }
   ],
   "source": [
    "from typing import Union\n",
    "PerType = Union[float, int]\n",
    "percentages : list[PerType] = [88,99.9,50,51,65,70]\n",
    "grades : list[str] = []\n",
    "for per  in percentages:\n",
    "    grade : str = \"\"\n",
    "\n",
    "    if per >= 80:\n",
    "        grade = \"A+\"\n",
    "    elif per >= 70:\n",
    "        grade = \"A\"\n",
    "    elif per >= 60:\n",
    "        grade = \"B\"\n",
    "    elif per >= 50:\n",
    "        grade = \"C\"\n",
    "    else:\n",
    "        grade = \"Fail\"\n",
    "\n",
    "    grades.append(grade)\n",
    "print(percentages)\n",
    "print(grades)\n",
    "data_base = list(zip(percentages,grades, list(range(len(percentages)))))\n",
    "data_base\n",
    "display(data_base)\n",
    "sorted(data_base, key=lambda x:x[1],reverse=True)"
   ]
  },
  {
   "cell_type": "code",
   "execution_count": 29,
   "metadata": {},
   "outputs": [
    {
     "name": "stdout",
     "output_type": "stream",
     "text": [
      "AUDI\n",
      "Bmw\n",
      "SUBARU\n",
      "TOYOTA\n"
     ]
    }
   ],
   "source": [
    "cars : list[str] = ['audi','bmw','subaru','toyota']\n",
    "for car in cars:\n",
    "    if car == 'bmw':\n",
    "      print(car.title())\n",
    "    else:\n",
    "       print(car.upper())\n",
    "\n",
    "    \n"
   ]
  },
  {
   "cell_type": "code",
   "execution_count": 31,
   "metadata": {},
   "outputs": [
    {
     "data": {
      "text/plain": [
       "['AUDI', 'Bmw', 'SUBARU', 'TOYOTA']"
      ]
     },
     "execution_count": 31,
     "metadata": {},
     "output_type": "execute_result"
    }
   ],
   "source": [
    "cars : list[str] = ['audi','bmw','subaru','toyota']\n",
    "[i.title() if i=='bmw' else i.upper() for i in cars]"
   ]
  },
  {
   "cell_type": "code",
   "execution_count": 32,
   "metadata": {},
   "outputs": [
    {
     "name": "stdout",
     "output_type": "stream",
     "text": [
      "AUDI\n",
      "bmw\n",
      "SUBARU\n",
      "TOYOTA\n"
     ]
    }
   ],
   "source": [
    "cars : list[str] = ['audi','bmw','subaru','toyota']\n",
    "for car in cars:\n",
    "    if car != 'bmw':\n",
    "      print(car.upper())\n",
    "    else:\n",
    "       print(car.lower())"
   ]
  },
  {
   "cell_type": "code",
   "execution_count": 34,
   "metadata": {},
   "outputs": [
    {
     "name": "stdout",
     "output_type": "stream",
     "text": [
      "Invalid user or password\n"
     ]
    }
   ],
   "source": [
    "user_name : str = input (\"Enter user is: \\t\")\n",
    "user_password : str = input (\"Enter your password:\\t\")\n",
    "\n",
    "if user_name == 'admin' and user_password == 'admin':\n",
    "    print(\"sent otp on your registerd phone number \")\n",
    "    otp : str = input(\"Enter your OTP\")\n",
    "    if otp == '123':\n",
    "        print(\"Welcome to PIAIC\")\n",
    "else:\n",
    "    print(\"Invalid user or password\")"
   ]
  },
  {
   "cell_type": "code",
   "execution_count": 49,
   "metadata": {},
   "outputs": [
    {
     "name": "stdout",
     "output_type": "stream",
     "text": [
      "{'abc': [1, 2, 3],\n",
      " 'cde': {'a': 1, 'b': 2},\n",
      " 'education': 'MSCS',\n",
      " 'efg': (1, 2, 3),\n",
      " 'fname': 'Muhammad Aslam',\n",
      " 'name': 'Muhammad Qasim',\n",
      " 'xyz': {1, 2, 3}}\n",
      "Muhammad Qasim\n",
      "MSCS\n",
      "{'a': 1, 'b': 2}\n"
     ]
    }
   ],
   "source": [
    "from typing import Dict,Union,Optional\n",
    "import pprint\n",
    "\n",
    "key = Union[int,str]\n",
    "value = Union[int,str,list,dict,tuple,set]\n",
    "#List\n",
    "data : Dict[key,value] ={\n",
    "                        \"fname\":\"Muhammad Aslam\",\n",
    "                        \"name\":\"Muhammad Qasim\",\n",
    "                        \"education\":\"MSCS\",\n",
    "                        \"abc\" : [1,2,3],\n",
    "                        'xyz' : {1,2,3},\n",
    "                        'efg' : (1,2,3),\n",
    "                        'cde' : {\"a\":1, \"b\":2}\n",
    "\n",
    "                        } \n",
    "pprint.pprint(data)\n",
    "print(data[\"name\"])\n",
    "print(data[\"education\"])\n",
    "print(data[\"cde\"])"
   ]
  },
  {
   "cell_type": "code",
   "execution_count": 6,
   "metadata": {},
   "outputs": [
    {
     "data": {
      "text/plain": [
       "['clear',\n",
       " 'copy',\n",
       " 'fromkeys',\n",
       " 'get',\n",
       " 'items',\n",
       " 'keys',\n",
       " 'pop',\n",
       " 'popitem',\n",
       " 'setdefault',\n",
       " 'update',\n",
       " 'values']"
      ]
     },
     "execution_count": 6,
     "metadata": {},
     "output_type": "execute_result"
    }
   ],
   "source": [
    "[i for i in dir(data) if \"__\" not in i]\n"
   ]
  },
  {
   "cell_type": "code",
   "execution_count": 4,
   "metadata": {},
   "outputs": [
    {
     "name": "stdout",
     "output_type": "stream",
     "text": [
      "{'name': 'haider', 'fname': 'ali', 'lname': 'tariq'}\n"
     ]
    }
   ],
   "source": [
    "from typing import Dict,Union,Optional\n",
    "import pprint\n",
    "\n",
    "key = Union[int,str]\n",
    "value = Union[int,str,list,dict,tuple,set]\n",
    "#List\n",
    "data : Dict[key,value] ={}\n",
    "data['name'] = \"haider\"\n",
    "data['fname'] = \"ali\"\n",
    "data['lname'] = \"tariq\"\n",
    "\n",
    "\n",
    "\n",
    "print(data)"
   ]
  },
  {
   "cell_type": "code",
   "execution_count": 7,
   "metadata": {},
   "outputs": [
    {
     "name": "stdout",
     "output_type": "stream",
     "text": [
      "['clear', 'copy', 'fromkeys', 'get', 'items', 'keys', 'pop', 'popitem', 'setdefault', 'update', 'values']\n"
     ]
    }
   ],
   "source": [
    "methods : list[str] = [i for i in dir(data) if \"__\" not in i] #we may variable and we can call it entire our program\n",
    "print(methods)"
   ]
  },
  {
   "cell_type": "code",
   "execution_count": 19,
   "metadata": {},
   "outputs": [
    {
     "name": "stdout",
     "output_type": "stream",
     "text": [
      "{'fname': 'Muhammad Tariq', 'name': 'Haider ali tariq', 'Education': 'PHD', 'age': 30}\n"
     ]
    }
   ],
   "source": [
    "from typing import Union\n",
    "from typing import Dict\n",
    "key = Union[int,str]#creat custom type\n",
    "value = Union[int,str,list,dict,tuple,set]\n",
    "\n",
    "data : Dict[key,value] = {\"fname\":\"Muhammad Tariq\",\n",
    "                          \"name\":\"Tufail\",\n",
    "                          \"Education\":\"MCS\"}\n",
    "                        \n",
    "data1 : Dict[key,value] = {\"name\":\"Haider ali tariq\",\n",
    "                           \"age\": 30,\n",
    "                           \"Education\": \"PHD\"}\n",
    "                           \n",
    "data.update(data1)\n",
    "\n",
    "data"
   ]
  },
  {
   "cell_type": "code",
   "execution_count": 21,
   "metadata": {},
   "outputs": [
    {
     "data": {
      "text/html": [
       "<div>\n",
       "<style scoped>\n",
       "    .dataframe tbody tr th:only-of-type {\n",
       "        vertical-align: middle;\n",
       "    }\n",
       "\n",
       "    .dataframe tbody tr th {\n",
       "        vertical-align: top;\n",
       "    }\n",
       "\n",
       "    .dataframe thead th {\n",
       "        text-align: right;\n",
       "    }\n",
       "</style>\n",
       "<table border=\"1\" class=\"dataframe\">\n",
       "  <thead>\n",
       "    <tr style=\"text-align: right;\">\n",
       "      <th></th>\n",
       "      <th>roll no</th>\n",
       "      <th>Name</th>\n",
       "      <th>eudcation</th>\n",
       "    </tr>\n",
       "  </thead>\n",
       "  <tbody>\n",
       "    <tr>\n",
       "      <th>0</th>\n",
       "      <td>1</td>\n",
       "      <td>hider</td>\n",
       "      <td>msc</td>\n",
       "    </tr>\n",
       "    <tr>\n",
       "      <th>1</th>\n",
       "      <td>2</td>\n",
       "      <td>ali</td>\n",
       "      <td>master</td>\n",
       "    </tr>\n",
       "    <tr>\n",
       "      <th>2</th>\n",
       "      <td>3</td>\n",
       "      <td>tariq</td>\n",
       "      <td>ms</td>\n",
       "    </tr>\n",
       "  </tbody>\n",
       "</table>\n",
       "</div>"
      ],
      "text/plain": [
       "   roll no    Name eudcation\n",
       "0        1  hider        msc\n",
       "1        2     ali    master\n",
       "2        3   tariq        ms"
      ]
     },
     "execution_count": 21,
     "metadata": {},
     "output_type": "execute_result"
    }
   ],
   "source": [
    "import pandas as pd\n",
    "from typing import Any\n",
    "\n",
    "students_data :Dict[str, list[Any]] = {\"roll no\": [1,2,3],\n",
    "                                       \"Name\": [\"hider \",\"ali\",\"tariq\"],\n",
    "                                       \"eudcation\":[\"msc\",\"master\",\"ms\"]\n",
    "                                       }\n",
    "df : pd.DataFrame = pd.DataFrame(students_data) \n",
    "df"
   ]
  },
  {
   "cell_type": "code",
   "execution_count": 23,
   "metadata": {},
   "outputs": [
    {
     "name": "stdout",
     "output_type": "stream",
     "text": [
      "ahmad favorite language is: C#\n"
     ]
    }
   ],
   "source": [
    "fav_lang ={\"ali\":\"c#\",\n",
    "           \"ahmad\":\"C++\"}\n",
    "language=fav_lang['ali'].upper()\n",
    "print(f\"ali favorite language is: {language}\")"
   ]
  },
  {
   "cell_type": "code",
   "execution_count": 29,
   "metadata": {},
   "outputs": [
    {
     "name": "stdout",
     "output_type": "stream",
     "text": [
      "Hi Ali.\n",
      "\tAli, i see you love C#\n",
      "Hi Ahmad.\n",
      "\tAhmad, i see you love C#\n"
     ]
    }
   ],
   "source": [
    "fav_lang ={\"ali\":\"c++\",\n",
    "           \"ahmad\":\"C++\"}\n",
    "friends = ['ali','ahmad']\n",
    "for name in fav_lang.keys():\n",
    "    print(f\"Hi {name.title()}.\")\n",
    "    if name in friends:\n",
    "        fav_lang[name].title()\n",
    "        print(f\"\\t{name.title()}, i see you love {language}\")"
   ]
  },
  {
   "cell_type": "code",
   "execution_count": 1,
   "metadata": {},
   "outputs": [
    {
     "data": {
      "text/plain": [
       "[1, 2, 3, 4, 5, 6]"
      ]
     },
     "execution_count": 1,
     "metadata": {},
     "output_type": "execute_result"
    }
   ],
   "source": [
    "li : list[int] = [1,2,3,4,5,6]\n",
    "li"
   ]
  },
  {
   "cell_type": "code",
   "execution_count": 9,
   "metadata": {},
   "outputs": [
    {
     "name": "stdout",
     "output_type": "stream",
     "text": [
      "curent no1\n",
      "curent no2\n",
      "curent no3\n",
      "curent no4\n",
      "curent no5\n",
      "curent no6\n"
     ]
    }
   ],
   "source": [
    "#itration\n",
    "li : list[int] = [1,2,3,4,5,6]\n",
    "for l in li:\n",
    "    print(f\"curent no{l}\")"
   ]
  },
  {
   "cell_type": "code",
   "execution_count": 12,
   "metadata": {},
   "outputs": [
    {
     "name": "stdout",
     "output_type": "stream",
     "text": [
      "H\n",
      "A\n",
      "I\n",
      "D\n",
      "E\n",
      "R\n"
     ]
    }
   ],
   "source": [
    "li : str = \"HAIDER\"\n",
    "for n in li:\n",
    "    print(n)\n"
   ]
  },
  {
   "cell_type": "code",
   "execution_count": 15,
   "metadata": {},
   "outputs": [
    {
     "name": "stdout",
     "output_type": "stream",
     "text": [
      "key is:name and value is haider\n",
      "key is:fname and value is tariq\n"
     ]
    }
   ],
   "source": [
    "#itration with dictionary\n",
    "li : dict[str,str] = {\"name\":\"haider\",\"fname\":\"tariq\"}\n",
    "\n",
    "for k in li:\n",
    "    print(f\"key is:{k} and value is {li[k]}\")"
   ]
  },
  {
   "cell_type": "code",
   "execution_count": 17,
   "metadata": {},
   "outputs": [
    {
     "name": "stdout",
     "output_type": "stream",
     "text": [
      "value from list of set:1 \n",
      "value from list of set:2 \n",
      "value from list of set:3 \n",
      "value from list of set:4 \n",
      "value from list of set:5 \n",
      "value from list of set:6 \n",
      "value from list of set:7 \n"
     ]
    }
   ],
   "source": [
    "#type castin with SET\n",
    "li : list[set[int]] = list({1,2,1,2,3,4,5,6,7})\n",
    "for k in li:\n",
    "    print(f\"value from list of set:{k} \")"
   ]
  },
  {
   "cell_type": "code",
   "execution_count": 18,
   "metadata": {},
   "outputs": [
    {
     "name": "stdout",
     "output_type": "stream",
     "text": [
      "welcome dear haider \n"
     ]
    }
   ],
   "source": [
    "#user input\n",
    "name : str = input(\"what is your name ?\")\n",
    "print(f\"welcome dear {name}\")"
   ]
  },
  {
   "cell_type": "code",
   "execution_count": 19,
   "metadata": {},
   "outputs": [
    {
     "name": "stdout",
     "output_type": "stream",
     "text": [
      "line1\n",
      "line2\n"
     ]
    },
    {
     "ename": "AttributeError",
     "evalue": "module 'sys' has no attribute 'srgv'",
     "output_type": "error",
     "traceback": [
      "\u001b[1;31m---------------------------------------------------------------------------\u001b[0m",
      "\u001b[1;31mAttributeError\u001b[0m                            Traceback (most recent call last)",
      "\u001b[1;32mc:\\Users\\Computer\\Desktop\\learn modren python\\python5\\class1.ipynb Cell 62\u001b[0m line \u001b[0;36m6\n\u001b[0;32m      <a href='vscode-notebook-cell:/c%3A/Users/Computer/Desktop/learn%20modren%20python/python5/class1.ipynb#Y116sZmlsZQ%3D%3D?line=2'>3</a>\u001b[0m \u001b[39mprint\u001b[39m(\u001b[39m\"\u001b[39m\u001b[39mline1\u001b[39m\u001b[39m\"\u001b[39m)\n\u001b[0;32m      <a href='vscode-notebook-cell:/c%3A/Users/Computer/Desktop/learn%20modren%20python/python5/class1.ipynb#Y116sZmlsZQ%3D%3D?line=3'>4</a>\u001b[0m \u001b[39mprint\u001b[39m(\u001b[39m\"\u001b[39m\u001b[39mline2\u001b[39m\u001b[39m\"\u001b[39m)\n\u001b[1;32m----> <a href='vscode-notebook-cell:/c%3A/Users/Computer/Desktop/learn%20modren%20python/python5/class1.ipynb#Y116sZmlsZQ%3D%3D?line=5'>6</a>\u001b[0m \u001b[39mprint\u001b[39m(\u001b[39mtype\u001b[39m(sys\u001b[39m.\u001b[39;49msrgv))\n\u001b[0;32m      <a href='vscode-notebook-cell:/c%3A/Users/Computer/Desktop/learn%20modren%20python/python5/class1.ipynb#Y116sZmlsZQ%3D%3D?line=7'>8</a>\u001b[0m \u001b[39mprint\u001b[39m(sys\u001b[39m.\u001b[39margv)\n",
      "\u001b[1;31mAttributeError\u001b[0m: module 'sys' has no attribute 'srgv'"
     ]
    }
   ],
   "source": [
    "import sys\n",
    "\n",
    "print(\"line1\")\n",
    "print(\"line2\")\n",
    "\n",
    "print(type(sys.srgv))\n",
    "\n",
    "print(sys.argv)\n"
   ]
  },
  {
   "cell_type": "code",
   "execution_count": 20,
   "metadata": {},
   "outputs": [
    {
     "name": "stdout",
     "output_type": "stream",
     "text": [
      "current no is :1\n",
      "current no is :2\n",
      "current no is :3\n",
      "current no is :4\n",
      "current no is :5\n",
      "current no is :6\n",
      "current no is :7\n",
      "current no is :8\n",
      "current no is :9\n",
      "current no is :10\n"
     ]
    }
   ],
   "source": [
    "flag : bool = True\n",
    "\n",
    "current_number : int = 1\n",
    "\n",
    "while flag:\n",
    "    print(f\"current no is :{current_number}\")\n",
    "    current_number += 1\n",
    "    if current_number == 11:\n",
    "        break"
   ]
  },
  {
   "cell_type": "code",
   "execution_count": null,
   "metadata": {},
   "outputs": [],
   "source": [
    "li : list[int] = [100,200,300]\n",
    "\n",
    "index : int = 0 \n",
    "\n",
    "while index "
   ]
  },
  {
   "cell_type": "code",
   "execution_count": 9,
   "metadata": {},
   "outputs": [
    {
     "name": "stdout",
     "output_type": "stream",
     "text": [
      "write quite or exit to stop the Program\n"
     ]
    },
    {
     "data": {
      "text/plain": [
       "[{'name': 'ali', 'education': 'ba'}]"
      ]
     },
     "metadata": {},
     "output_type": "display_data"
    },
    {
     "name": "stdout",
     "output_type": "stream",
     "text": [
      "write quite or exit to stop the Program\n"
     ]
    }
   ],
   "source": [
    "data : list[dict[str,str]] = []\n",
    "flag : bool = True\n",
    "while flag:\n",
    "    print(\"write quite or exit to stop the Program\")\n",
    "    name : str = input(\"your name \\t\")\n",
    "    education : str = input (\"your last education\")\n",
    "    if name in ['exit','quite','close','stop'] or education in ['exit','quite','close','stop']:\n",
    "        flag=False\n",
    "        break\n",
    "    data.append({\"name\":name,\n",
    "                 \"education\":education})\n",
    "    display(data)\n"
   ]
  },
  {
   "cell_type": "code",
   "execution_count": 25,
   "metadata": {},
   "outputs": [
    {
     "name": "stdout",
     "output_type": "stream",
     "text": [
      "2 X 1 = 2\n",
      "2 X 2 = 4\n",
      "2 X 3 = 6\n",
      "2 X 4 = 8\n",
      "2 X 5 = 10\n",
      "2 X 6 = 12\n",
      "2 X 7 = 14\n",
      "2 X 8 = 16\n"
     ]
    }
   ],
   "source": [
    "for n in range(1,10):\n",
    "    print(f\"{2} X {n} = {n*2}\")\n",
    "    if n == 8:\n",
    "        break\n",
    "        \n",
    "\n",
    "\n"
   ]
  },
  {
   "cell_type": "code",
   "execution_count": null,
   "metadata": {},
   "outputs": [],
   "source": [
    "for n in range(1,10):\n",
    "    \n",
    "    if n == 8:\n",
    "        continue #its skipping the code\n",
    "    print(f\"{2} X {n} = {n*2}\")"
   ]
  }
 ],
 "metadata": {
  "kernelspec": {
   "display_name": "python12",
   "language": "python",
   "name": "python3"
  },
  "language_info": {
   "codemirror_mode": {
    "name": "ipython",
    "version": 3
   },
   "file_extension": ".py",
   "mimetype": "text/x-python",
   "name": "python",
   "nbconvert_exporter": "python",
   "pygments_lexer": "ipython3",
   "version": "3.12.0"
  }
 },
 "nbformat": 4,
 "nbformat_minor": 2
}
